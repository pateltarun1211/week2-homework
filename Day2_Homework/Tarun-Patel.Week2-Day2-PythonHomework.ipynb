{
 "cells": [
  {
   "cell_type": "markdown",
   "metadata": {},
   "source": [
    "# Functions, Scoping, Data Collections 1 & List Comprehensions"
   ]
  },
  {
   "cell_type": "markdown",
   "metadata": {},
   "source": [
    "## Tasks Today:\n",
    "\n",
    "<i>Monday Additions (for loops)</i>\n",
    "\n",
    "1) For Loops <br>\n",
    " &nbsp;&nbsp;&nbsp;&nbsp; a) Using 'in' keyword <br>\n",
    " &nbsp;&nbsp;&nbsp;&nbsp; b) Continue Statement <br>\n",
    " &nbsp;&nbsp;&nbsp;&nbsp; c) Break Statement <br>\n",
    " &nbsp;&nbsp;&nbsp;&nbsp; d) Pass Statement <br>\n",
    " &nbsp;&nbsp;&nbsp;&nbsp; e) Double For Loops <br>\n",
    "2) While Loops <br>\n",
    " &nbsp;&nbsp;&nbsp;&nbsp; a) Looping 'While True' <br>\n",
    " &nbsp;&nbsp;&nbsp;&nbsp; b) While and For Loops Used Together <br>\n",
    " \n",
    "3) Lists <br>\n",
    " &nbsp;&nbsp;&nbsp;&nbsp; a) Declaring Lists <br>\n",
    " &nbsp;&nbsp;&nbsp;&nbsp; b) Indexing a List <br>\n",
    " &nbsp;&nbsp;&nbsp;&nbsp; c) .append() <br>\n",
    " &nbsp;&nbsp;&nbsp;&nbsp; d) .insert() <br>\n",
    " &nbsp;&nbsp;&nbsp;&nbsp; e) .pop() <br>\n",
    " &nbsp;&nbsp;&nbsp;&nbsp; f) .remove() <br>\n",
    " &nbsp;&nbsp;&nbsp;&nbsp; g) del() <br>\n",
    " &nbsp;&nbsp;&nbsp;&nbsp; h) Concatenating Two Lists <br>\n",
    " &nbsp;&nbsp;&nbsp;&nbsp; i) Lists Within Lists <br>\n",
    " &nbsp;&nbsp;&nbsp;&nbsp; j) Looping Through Lists <br>\n",
    "4) Working With Lists <br>\n",
    " &nbsp;&nbsp;&nbsp;&nbsp; a) min() <br>\n",
    " &nbsp;&nbsp;&nbsp;&nbsp; b) max() <br>\n",
    " &nbsp;&nbsp;&nbsp;&nbsp; c) sum() <br>\n",
    " &nbsp;&nbsp;&nbsp;&nbsp; d) sort() <br>\n",
    " &nbsp;&nbsp;&nbsp;&nbsp; e) Copying a List <br>\n",
    " &nbsp;&nbsp;&nbsp;&nbsp; f) 'in' keyword <br>\n",
    " &nbsp;&nbsp;&nbsp;&nbsp; g) 'not in' keyword <br>\n",
    " &nbsp;&nbsp;&nbsp;&nbsp; i) Checking an Empty List <br>\n",
    " &nbsp;&nbsp;&nbsp;&nbsp; j) Removing Instances with a Loop <br> \n",
    "5) List Comprehensions <br>\n",
    "6) Tuples <br>\n",
    " &nbsp;&nbsp;&nbsp;&nbsp; a) sorted() <br>\n"
   ]
  },
  {
   "cell_type": "markdown",
   "metadata": {},
   "source": [
    "### For Loops"
   ]
  },
  {
   "cell_type": "markdown",
   "metadata": {},
   "source": [
    "##### .lstrip()"
   ]
  },
  {
   "cell_type": "code",
   "execution_count": 1,
   "metadata": {},
   "outputs": [
    {
     "name": "stdout",
     "output_type": "stream",
     "text": [
      " Ryan\n",
      "Ryan\n"
     ]
    }
   ],
   "source": [
    "# .lstrip() remove white space from left/front of a string\n",
    "\n",
    "name = \" Ryan\"\n",
    "print(name)\n",
    "name = name.lstrip()\n",
    "print(name)"
   ]
  },
  {
   "cell_type": "code",
   "execution_count": 2,
   "metadata": {},
   "outputs": [
    {
     "name": "stdout",
     "output_type": "stream",
     "text": [
      "Alex \n",
      "Alex\n"
     ]
    }
   ],
   "source": [
    "# .rstrip() removes whtie space from right/back of a string\n",
    "name = \"Alex \"\n",
    "print(name)\n",
    "name = name.rstrip()\n",
    "print(name)"
   ]
  },
  {
   "cell_type": "code",
   "execution_count": 3,
   "metadata": {},
   "outputs": [
    {
     "name": "stdout",
     "output_type": "stream",
     "text": [
      " Cheetor \n",
      "Cheetor\n"
     ]
    }
   ],
   "source": [
    "# .strip() remove whitespace surrounding a string -- front and back\n",
    "name = \" Cheetor \"\n",
    "print(name)\n",
    "name = name.strip()\n",
    "print(name)"
   ]
  },
  {
   "cell_type": "markdown",
   "metadata": {},
   "source": [
    "##### Using 'in' keyword"
   ]
  },
  {
   "cell_type": "code",
   "execution_count": 4,
   "metadata": {},
   "outputs": [
    {
     "name": "stdout",
     "output_type": "stream",
     "text": [
      "1 odd\n",
      "2 even\n",
      "3 odd\n",
      "4 even\n",
      "5 odd\n",
      "6 even\n",
      "7 odd\n",
      "8 even\n",
      "9 odd\n",
      "10 even\n",
      "T\n",
      "a\n",
      "r\n",
      "u\n",
      "n\n",
      " \n",
      "P\n",
      "a\n",
      "t\n",
      "e\n",
      "l\n"
     ]
    }
   ],
   "source": [
    "# use in for any type iterable, list, dictionary, string, tuple, set, and others\n",
    "name = \"Tarun Patel\"\n",
    "my_list = [1, 2, 3, 4, 5, 6, 7, 8, 9, 10]\n",
    "\n",
    "for num in my_list:\n",
    "    if num % 2 == 0:\n",
    "        print(num, \"even\")\n",
    "    else:\n",
    "        print(num, \"odd\")\n",
    "        \n",
    "for letter in name:\n",
    "    print(letter)"
   ]
  },
  {
   "cell_type": "markdown",
   "metadata": {},
   "source": [
    "##### Continue Statement"
   ]
  },
  {
   "cell_type": "code",
   "execution_count": 5,
   "metadata": {},
   "outputs": [
    {
     "name": "stdout",
     "output_type": "stream",
     "text": [
      "10 Odd\n",
      "10 Even\n",
      "10 Odd\n",
      "10 Even\n",
      "10 Odd\n",
      "10 Even\n",
      "10 Odd\n",
      "10 Even\n",
      "10 Odd\n",
      "10 Even\n"
     ]
    }
   ],
   "source": [
    "my_list = [1, 2, 3, 4, 5, 6, 7, 8, 9, 10]\n",
    "\n",
    "for x in my_list:\n",
    "    if x % 2 == 0:\n",
    "        print(num, \"Even\")\n",
    "    else:\n",
    "        print(num, \"Odd\")\n",
    "\n"
   ]
  },
  {
   "cell_type": "markdown",
   "metadata": {},
   "source": [
    "##### Break Statement"
   ]
  },
  {
   "cell_type": "code",
   "execution_count": 6,
   "metadata": {},
   "outputs": [
    {
     "name": "stdout",
     "output_type": "stream",
     "text": [
      "1 odd\n",
      "2 even\n",
      "3 odd\n",
      "4 even\n",
      "5 odd\n",
      "6 even\n"
     ]
    }
   ],
   "source": [
    "# will break out of current loop\n",
    "\n",
    "my_list = [1, 2, 3, 4, 5, 6, 7, 8, 9, 10]\n",
    "\n",
    "counter = 0\n",
    "while counter < len(my_list):\n",
    "    if my_list[counter] % 2 == 0:\n",
    "        print(my_list[counter], \"even\")\n",
    "    elif my_list[counter] == 7:\n",
    "        break\n",
    "    else:\n",
    "        print(my_list[counter], \"odd\")\n",
    "    counter += 1\n"
   ]
  },
  {
   "cell_type": "code",
   "execution_count": 7,
   "metadata": {},
   "outputs": [
    {
     "name": "stdout",
     "output_type": "stream",
     "text": [
      "1 odd\n",
      "2 even\n",
      "3 odd\n",
      "4 even\n",
      "5 odd\n",
      "6 even\n",
      "This is a 7 so we're breaking\n"
     ]
    }
   ],
   "source": [
    "# for looping through values with an index\n",
    "my_list = [1, 2, 3, 4, 5, 6, 7, 8, 9, 10]\n",
    "\n",
    "for i in range(len(my_list)):\n",
    "    if my_list[i] % 2 == 0:\n",
    "        print(my_list[i], \"even\")\n",
    "    elif my_list[i] == 7:\n",
    "        print(\"This is a 7 so we're breaking\")\n",
    "        break\n",
    "    else:\n",
    "        print(my_list[i], \"odd\")"
   ]
  },
  {
   "cell_type": "code",
   "execution_count": 8,
   "metadata": {},
   "outputs": [
    {
     "name": "stdout",
     "output_type": "stream",
     "text": [
      "0\n",
      "1\n",
      "2\n",
      "3\n",
      "4\n",
      "5\n",
      "6\n",
      "7\n",
      "8\n",
      "9\n"
     ]
    }
   ],
   "source": [
    "my_list = [1, 2, 3, 4, 5, 6, 7, 8, 9, 10]\n",
    "for i in range(len(my_list)):\n",
    "    print(i)"
   ]
  },
  {
   "cell_type": "code",
   "execution_count": 9,
   "metadata": {},
   "outputs": [
    {
     "ename": "SyntaxError",
     "evalue": "invalid syntax. Maybe you meant '==' or ':=' instead of '='? (769850714.py, line 6)",
     "output_type": "error",
     "traceback": [
      "\u001b[0;36m  Cell \u001b[0;32mIn [9], line 6\u001b[0;36m\u001b[0m\n\u001b[0;31m    elif num = 7:\u001b[0m\n\u001b[0m         ^\u001b[0m\n\u001b[0;31mSyntaxError\u001b[0m\u001b[0;31m:\u001b[0m invalid syntax. Maybe you meant '==' or ':=' instead of '='?\n"
     ]
    }
   ],
   "source": [
    "my_list = [1, 2, 3, 4, 5, 6, 7, 8, 9, 10]\n",
    "\n",
    "for num in my_list:\n",
    "    if num % 2 == 0:\n",
    "        print(num, \"even\")\n",
    "    elif num = 7:\n",
    "        break\n",
    "    else:\n",
    "        print(num, \"odd\")"
   ]
  },
  {
   "cell_type": "markdown",
   "metadata": {},
   "source": [
    "##### Pass Statement"
   ]
  },
  {
   "cell_type": "code",
   "execution_count": null,
   "metadata": {},
   "outputs": [],
   "source": [
    "# mostly used as a placeholder, and will continue on same iteration\n",
    "\n",
    "for name in my_list:\n",
    "    pass #Come back later to finish -- it will not break your code if not complete"
   ]
  },
  {
   "cell_type": "markdown",
   "metadata": {},
   "source": [
    "##### Double For Loops"
   ]
  },
  {
   "cell_type": "code",
   "execution_count": null,
   "metadata": {},
   "outputs": [],
   "source": [
    "my_list = [1, 2, 3, 4, 5, 6, 7, 8, 9, 10]\n",
    "my_list2 = [2, 6, 10, 14, 18]\n",
    "\n",
    "for num in my_list:\n",
    "    for num2 in my_list2:\n",
    "        if num2 == num*2:\n",
    "            print(num, num2)"
   ]
  },
  {
   "cell_type": "markdown",
   "metadata": {},
   "source": [
    "### While Loops"
   ]
  },
  {
   "cell_type": "code",
   "execution_count": null,
   "metadata": {},
   "outputs": [],
   "source": [
    "# while keyword, condition for the while loop to run\n",
    "\n",
    "names = [\"Ryan\", \"Alex\", \"Dyonne\", \"Steve\", \"Raul\", \"Katie\"]\n",
    "\n",
    "index = 0\n",
    "\n",
    "while index < len(names):\n",
    "    print(names[index])\n",
    "    index += 1"
   ]
  },
  {
   "cell_type": "markdown",
   "metadata": {},
   "source": [
    "##### looping 'While True'"
   ]
  },
  {
   "cell_type": "code",
   "execution_count": null,
   "metadata": {},
   "outputs": [],
   "source": [
    "names = [\"Ryan\", \"Alex\", \"Dyonne\", \"Steve\", \"Raul\", \"Katie\"]\n",
    "\n",
    "flag = True\n",
    "index = 0\n",
    "while True:\n",
    "    print(names[index])\n",
    "    if names[index] == \"Dyonne\":\n",
    "        break\n",
    "    index += 1"
   ]
  },
  {
   "cell_type": "markdown",
   "metadata": {},
   "source": [
    "##### While & For Loops Used Together"
   ]
  },
  {
   "cell_type": "code",
   "execution_count": null,
   "metadata": {},
   "outputs": [],
   "source": [
    "names = [\"Ryan\", \"Alex\", \"Dyonne\", \"Steve\", \"Raul\", \"Katie\"]\n",
    "\n",
    "index = 0\n",
    "while index < len(names):\n",
    "    print(names[index])\n",
    "    for letter in names[index]:\n",
    "        print(letter)\n",
    "    index += 1\n",
    "    "
   ]
  },
  {
   "cell_type": "markdown",
   "metadata": {},
   "source": [
    "##### The Range Function"
   ]
  },
  {
   "cell_type": "code",
   "execution_count": null,
   "metadata": {},
   "outputs": [],
   "source": [
    "for num in range(10):\n",
    "    print(num)"
   ]
  },
  {
   "cell_type": "markdown",
   "metadata": {},
   "source": [
    "### String Manipulation Exercise"
   ]
  },
  {
   "cell_type": "code",
   "execution_count": null,
   "metadata": {
    "scrolled": true
   },
   "outputs": [],
   "source": [
    "names = ['    coNNor', 'max', ' EVan ', 'JORDAN']\n",
    "# HINT: You will need to use a for loop for iteration\n",
    "\n",
    "names_clean = []\n",
    "for name in names:\n",
    "    names_clean.append(name.title().strip())\n",
    "print(names_clean)"
   ]
  },
  {
   "cell_type": "markdown",
   "metadata": {},
   "source": [
    "## Lists"
   ]
  },
  {
   "cell_type": "markdown",
   "metadata": {},
   "source": [
    "##### Declaring Lists"
   ]
  },
  {
   "cell_type": "code",
   "execution_count": null,
   "metadata": {},
   "outputs": [],
   "source": [
    "our_empty_list = [] # <-- empty list\n",
    "our_list = [1, 2, 3, 4, 5]\n"
   ]
  },
  {
   "cell_type": "markdown",
   "metadata": {},
   "source": [
    "##### Indexing a List"
   ]
  },
  {
   "cell_type": "code",
   "execution_count": null,
   "metadata": {},
   "outputs": [],
   "source": [
    "names = [\"Ryan\", \"Alex\", \"Dyonne\", \"Steve\", \"Raul\", \"Katie\"]\n",
    "# indexing into a list\n",
    "print(names[3])\n",
    "\n",
    "# print starting at an index and going to end of the list\n",
    "print(names[2:])\n",
    "\n",
    "#print list reverse\n",
    "print(names[::-1])\n",
    "\n",
    "# print from index 1 and go by 2's\n",
    "print(names[1::2])\n",
    "\n"
   ]
  },
  {
   "cell_type": "markdown",
   "metadata": {},
   "source": [
    "### List Methods"
   ]
  },
  {
   "cell_type": "markdown",
   "metadata": {},
   "source": [
    "##### .append()"
   ]
  },
  {
   "cell_type": "code",
   "execution_count": 11,
   "metadata": {},
   "outputs": [
    {
     "name": "stdout",
     "output_type": "stream",
     "text": [
      "['Ryan', 'Alex', 'Dyonne', 'Steve', 'Raul', 'Katie', 'Teddie']\n"
     ]
    }
   ],
   "source": [
    "names = [\"Ryan\", \"Alex\", \"Dyonne\", \"Steve\", \"Raul\", \"Katie\"]\n",
    "\n",
    "names.append(\"Teddie\")\n",
    "\n",
    "print(names)"
   ]
  },
  {
   "cell_type": "markdown",
   "metadata": {},
   "source": [
    "##### .insert()"
   ]
  },
  {
   "cell_type": "code",
   "execution_count": 12,
   "metadata": {},
   "outputs": [
    {
     "name": "stdout",
     "output_type": "stream",
     "text": [
      "['Ryan', 'Alex', 'Cassie', 'Dyonne', 'Steve', 'Raul', 'Katie', 'Teddie']\n"
     ]
    }
   ],
   "source": [
    "# insert will insert value in to a list at the given index\n",
    "\n",
    "names.insert(2, \"Cassie\")\n",
    "print(names)"
   ]
  },
  {
   "cell_type": "markdown",
   "metadata": {},
   "source": [
    "##### .pop()"
   ]
  },
  {
   "cell_type": "code",
   "execution_count": 13,
   "metadata": {},
   "outputs": [
    {
     "name": "stdout",
     "output_type": "stream",
     "text": [
      "Alex\n",
      "['Ryan', 'Cassie', 'Dyonne', 'Steve', 'Raul', 'Katie', 'Teddie']\n"
     ]
    }
   ],
   "source": [
    "# default is the ast value if no parameter is given\n",
    "# pop returns the element that was removed in case you want to assign it into a variable \n",
    "\n",
    "name_removed = names.pop(1)\n",
    "print(name_removed)\n",
    "print(names)"
   ]
  },
  {
   "cell_type": "markdown",
   "metadata": {},
   "source": [
    "##### .remove()"
   ]
  },
  {
   "cell_type": "code",
   "execution_count": 14,
   "metadata": {},
   "outputs": [
    {
     "name": "stdout",
     "output_type": "stream",
     "text": [
      "['Ryan', 'Dyonne', 'Steve', 'Raul', 'Katie', 'Teddie']\n"
     ]
    }
   ],
   "source": [
    "# value to be removed, not an index\n",
    "\n",
    "for name in names:\n",
    "    if name == \"Cassie\":\n",
    "        names.remove(name)\n",
    "print(names)\n"
   ]
  },
  {
   "cell_type": "markdown",
   "metadata": {},
   "source": [
    "### Working With Lists"
   ]
  },
  {
   "cell_type": "markdown",
   "metadata": {},
   "source": [
    "##### del()"
   ]
  },
  {
   "cell_type": "code",
   "execution_count": 15,
   "metadata": {},
   "outputs": [
    {
     "name": "stdout",
     "output_type": "stream",
     "text": [
      "['Ryan', 'Dyonne', 'Steve', 'Raul', 'Katie', 'Teddie']\n",
      "['Dyonne', 'Steve', 'Raul', 'Katie', 'Teddie']\n"
     ]
    }
   ],
   "source": [
    "# index to be removed, not value \n",
    "# BE CAREFUL with del, can cause an indexing error if not used carefully\n",
    "\n",
    "print(names)\n",
    "del(names[0])\n",
    "print(names)"
   ]
  },
  {
   "cell_type": "markdown",
   "metadata": {},
   "source": [
    "##### min()"
   ]
  },
  {
   "cell_type": "code",
   "execution_count": 16,
   "metadata": {},
   "outputs": [
    {
     "name": "stdout",
     "output_type": "stream",
     "text": [
      "3\n",
      "3\n"
     ]
    }
   ],
   "source": [
    "num_list = [3, 6, 5, 10, 22, 7]\n",
    "\n",
    "smallest_num = min(num_list)\n",
    "print(smallest_num)\n",
    "print(min(num_list))"
   ]
  },
  {
   "cell_type": "markdown",
   "metadata": {},
   "source": [
    "##### max()"
   ]
  },
  {
   "cell_type": "code",
   "execution_count": 17,
   "metadata": {},
   "outputs": [
    {
     "name": "stdout",
     "output_type": "stream",
     "text": [
      "22\n",
      "22\n"
     ]
    }
   ],
   "source": [
    "num_list = [3, 6, 5, 10, 22, 7]\n",
    "\n",
    "biggest_num = max(num_list)\n",
    "print(biggest_num)\n",
    "print(max(num_list))"
   ]
  },
  {
   "cell_type": "markdown",
   "metadata": {},
   "source": [
    "##### sum()"
   ]
  },
  {
   "cell_type": "code",
   "execution_count": 19,
   "metadata": {},
   "outputs": [
    {
     "name": "stdout",
     "output_type": "stream",
     "text": [
      "53\n",
      "53\n"
     ]
    }
   ],
   "source": [
    "num_list = [3, 6, 5, 10, 22, 7]\n",
    "\n",
    "sum_list = sum(num_list)\n",
    "print(sum_list)\n",
    "print(sum(num_list))"
   ]
  },
  {
   "cell_type": "markdown",
   "metadata": {},
   "source": [
    "##### sorted()"
   ]
  },
  {
   "cell_type": "code",
   "execution_count": 21,
   "metadata": {},
   "outputs": [
    {
     "name": "stdout",
     "output_type": "stream",
     "text": [
      "[3, 5, 6, 7, 10, 22]\n",
      "[3, 5, 6, 7, 10, 22]\n"
     ]
    }
   ],
   "source": [
    "num_list = [3, 6, 5, 10, 22, 7]\n",
    "\n",
    "sorted_num = sorted(num_list)\n",
    "print(sorted_num)\n",
    "print(sorted(num_list))"
   ]
  },
  {
   "cell_type": "markdown",
   "metadata": {},
   "source": [
    "##### .sort() <br>\n",
    "<p>Difference between sort and sorted, is that sorted doesn't change original list it returns a copy, while .sort changes the original list</p>"
   ]
  },
  {
   "cell_type": "code",
   "execution_count": 24,
   "metadata": {},
   "outputs": [
    {
     "name": "stdout",
     "output_type": "stream",
     "text": [
      "[3, 6, 5, 10, 22, 7]\n",
      "[3, 5, 6, 7, 10, 22]\n"
     ]
    }
   ],
   "source": [
    "num_list = [3, 6, 5, 10, 22, 7]\n",
    "\n",
    "print(num_list)\n",
    "num_list.sort()\n",
    "print(num_list)"
   ]
  },
  {
   "cell_type": "markdown",
   "metadata": {},
   "source": [
    "##### Copying a List"
   ]
  },
  {
   "cell_type": "code",
   "execution_count": 26,
   "metadata": {},
   "outputs": [
    {
     "name": "stdout",
     "output_type": "stream",
     "text": [
      "[3, 6, 5, 10, 22, 7]\n",
      "[3, 6, 5, 10, 22, 7]\n"
     ]
    }
   ],
   "source": [
    "# [:] copies a list, doesn't alter original'\n",
    "\n",
    "num_list = [3, 6, 5, 10, 22, 7]\n",
    "print(num_list)\n",
    "\n",
    "new_list = num_list[:]\n",
    "print(new_list)"
   ]
  },
  {
   "cell_type": "markdown",
   "metadata": {},
   "source": [
    "##### Looping Through Lists"
   ]
  },
  {
   "cell_type": "code",
   "execution_count": 30,
   "metadata": {},
   "outputs": [
    {
     "name": "stdout",
     "output_type": "stream",
     "text": [
      "Ryan\n",
      "Alex\n",
      "Dyonne\n",
      "Steve\n",
      "Raul\n",
      "Katie\n",
      "\n",
      "\n",
      "Ryan\n",
      "Alex\n",
      "Dyonne\n",
      "Steve\n",
      "Raul\n",
      "Katie\n"
     ]
    }
   ],
   "source": [
    "names = [\"Ryan\", \"Alex\", \"Dyonne\", \"Steve\", \"Raul\", \"Katie\"]\n",
    "\n",
    "for name in names:\n",
    "    print(name)\n",
    "\n",
    "print(\"\\n\")\n",
    "\n",
    "for i in range(len(names)):\n",
    "    print(names[i])"
   ]
  },
  {
   "cell_type": "markdown",
   "metadata": {},
   "source": [
    "##### 'in' keyword"
   ]
  },
  {
   "cell_type": "code",
   "execution_count": 32,
   "metadata": {},
   "outputs": [
    {
     "name": "stdout",
     "output_type": "stream",
     "text": [
      "the double exists\n"
     ]
    }
   ],
   "source": [
    "# Check if the input number's double is in the list provided\n",
    "\n",
    "num_list = [1, 2, 5, 8, 6, 20, 18, 14]\n",
    "\n",
    "num = 4\n",
    "\n",
    "if num*2 in num_list:\n",
    "    print(\"the double exists\")\n",
    "else:\n",
    "    print(\"no double here\")"
   ]
  },
  {
   "cell_type": "code",
   "execution_count": 33,
   "metadata": {},
   "outputs": [
    {
     "name": "stdout",
     "output_type": "stream",
     "text": [
      "not a double\n",
      "not a double\n",
      "not a double\n",
      "8 a double\n",
      "not a double\n",
      "not a double\n",
      "not a double\n",
      "not a double\n"
     ]
    }
   ],
   "source": [
    "num_list = [1, 2, 5, 8, 6, 20, 18, 14]\n",
    "num = 4\n",
    "for numbers in num_list:\n",
    "    if numbers == num * 2:\n",
    "        print(numbers, \"a double\")\n",
    "    else:\n",
    "        print(\"not a double\")"
   ]
  },
  {
   "cell_type": "markdown",
   "metadata": {},
   "source": [
    "##### 'not in' keyword"
   ]
  },
  {
   "cell_type": "code",
   "execution_count": 37,
   "metadata": {},
   "outputs": [
    {
     "name": "stdout",
     "output_type": "stream",
     "text": [
      "Phyllis is not a ranger\n"
     ]
    }
   ],
   "source": [
    "rangers = [\"Christ\", \"Tyler\", \"Tarun\", \"Alex\", \"Kathy\"]\n",
    "\n",
    "name = \"Phyllis\"\n",
    "\n",
    "if name not in rangers:\n",
    "    print(name, \"is not a ranger\")"
   ]
  },
  {
   "cell_type": "markdown",
   "metadata": {},
   "source": [
    "##### Checking an Empty List"
   ]
  },
  {
   "cell_type": "code",
   "execution_count": 38,
   "metadata": {},
   "outputs": [
    {
     "name": "stdout",
     "output_type": "stream",
     "text": [
      "This list is empty\n"
     ]
    }
   ],
   "source": [
    "our_list = []\n",
    "\n",
    "if our_list == []:\n",
    "    print(\"This list is empty\")"
   ]
  },
  {
   "cell_type": "markdown",
   "metadata": {},
   "source": [
    "##### Removing Instances with a Loop"
   ]
  },
  {
   "cell_type": "code",
   "execution_count": 42,
   "metadata": {},
   "outputs": [
    {
     "name": "stdout",
     "output_type": "stream",
     "text": [
      "['Chris', 'Tyler', 'Tarun', 'Alex', 'Kathy']\n",
      "['Chris', 'Tarun', 'Alex', 'Kathy']\n",
      "['Chris', 'Tarun', 'Alex']\n",
      "['Chris', 'Chris', 'Chris', 'Tyler', 'Chris', 'Tarun', 'Chris', 'Alex', 'Kathy']\n",
      "['Tyler', 'Tarun', 'Alex', 'Kathy']\n"
     ]
    }
   ],
   "source": [
    "# while, remove\n",
    "\n",
    "rangers = [\"Chris\", \"Tyler\", \"Tarun\", \"Alex\", \"Kathy\"]\n",
    "\n",
    "print(rangers)\n",
    "while \"Tyler\" in rangers:\n",
    "    rangers.remove(\"Tyler\")\n",
    "print(rangers)\n",
    "\n",
    "for name in rangers:\n",
    "    if name == \"Kathy\":\n",
    "        rangers.remove(name)\n",
    "print(rangers)\n",
    "\n",
    "rangers = [\"Chris\", \"Chris\", \"Chris\", \"Tyler\", \"Chris\", \"Tarun\", \"Chris\", \"Alex\", \"Kathy\"]\n",
    "print(rangers)\n",
    "while \"Chris\" in rangers:\n",
    "    rangers.remove(\"Chris\")\n",
    "print(rangers)"
   ]
  },
  {
   "cell_type": "markdown",
   "metadata": {},
   "source": [
    "### List Exercise <br>\n",
    "<p>Remove all duplicates<br><b>Extra: Create a program that will remove any duplicates from a given list</b></p>"
   ]
  },
  {
   "cell_type": "code",
   "execution_count": 43,
   "metadata": {},
   "outputs": [
    {
     "name": "stdout",
     "output_type": "stream",
     "text": [
      "['connor', 'bob', 'evan', 'max', 2, 3, 4, 'kevin']\n"
     ]
    }
   ],
   "source": [
    "names = ['connor', 'connor', 'bob', 'connor', 'evan', 'max', 'evan', 2, 2, 2, 3, 3, 4, 'bob', 'kevin']\n",
    "# Hint 1: You will need an append\n",
    "# Hint 2: Using an empty list will make life easier\n",
    "\n",
    "names_no_dupes = []\n",
    "\n",
    "for name in names:\n",
    "    if name not in names_no_dupes:\n",
    "        names_no_dupes.append(name)\n",
    "        \n",
    "print(names_no_dupes)"
   ]
  },
  {
   "cell_type": "markdown",
   "metadata": {},
   "source": [
    "### List Comprehensions <br>\n",
    "<p>Creating a quickly generated list to work with<br>*result*  = [*transform*    *iteration*         *filter*     ]</p>"
   ]
  },
  {
   "cell_type": "markdown",
   "metadata": {},
   "source": [
    "##### In a list comprehension we have a few pieces:\n",
    "1. The first is the counter/ variable - IN this the variable is x\n",
    "2. then we have a transform for the variable\n",
    "3. The finale part of a list comp is called the condition\n",
    "\n",
    "```python\n",
    "    [variable, transform, condition]\n",
    "```"
   ]
  },
  {
   "cell_type": "code",
   "execution_count": 46,
   "metadata": {
    "scrolled": true
   },
   "outputs": [
    {
     "name": "stdout",
     "output_type": "stream",
     "text": [
      "[0, 1, 2, 3, 4, 5, 6, 7, 8, 9, 10, 11, 12, 13, 14, 15, 16, 17, 18, 19, 20, 21, 22, 23, 24, 25, 26, 27, 28, 29, 30, 31, 32, 33, 34, 35, 36, 37, 38, 39, 40, 41, 42, 43, 44, 45, 46, 47, 48, 49, 50, 51, 52, 53, 54, 55, 56, 57, 58, 59, 60, 61, 62, 63, 64, 65, 66, 67, 68, 69, 70, 71, 72, 73, 74, 75, 76, 77, 78, 79, 80, 81, 82, 83, 84, 85, 86, 87, 88, 89, 90, 91, 92, 93, 94, 95, 96, 97, 98, 99]\n",
      "\n",
      "\n",
      "[0, 1, 2, 3, 4, 5, 6, 7, 8, 9, 10, 11, 12, 13, 14, 15, 16, 17, 18, 19, 20, 21, 22, 23, 24, 25, 26, 27, 28, 29, 30, 31, 32, 33, 34, 35, 36, 37, 38, 39, 40, 41, 42, 43, 44, 45, 46, 47, 48, 49, 50, 51, 52, 53, 54, 55, 56, 57, 58, 59, 60, 61, 62, 63, 64, 65, 66, 67, 68, 69, 70, 71, 72, 73, 74, 75, 76, 77, 78, 79, 80, 81, 82, 83, 84, 85, 86, 87, 88, 89, 90, 91, 92, 93, 94, 95, 96, 97, 98, 99]\n"
     ]
    }
   ],
   "source": [
    "# number comprehension\n",
    "# with a regular for loop\n",
    "\n",
    "nums = []\n",
    "\n",
    "for i in range(100):\n",
    "    nums.append(i)\n",
    "print(nums)\n",
    "\n",
    "print(\"\\n\")\n",
    "\n",
    "#list comprehension syntax\n",
    "num_comp = [i for i in range(100)]\n",
    "print(num_comp)"
   ]
  },
  {
   "cell_type": "markdown",
   "metadata": {},
   "source": [
    "There are a few benefits to using List comprehensions. The most obvious would be that we now have shorter code to work with instead of using 3+ lines of code in the for loop variant.\n",
    "\n",
    "Another is an added benefit to memory usage. Since the list's memory is allocated first before adding elements to it, we don't have to resize the list once we add elements to it.\n",
    "\n",
    "Lastly, list comprehensions are considered the \"pythonic\" way to write code by the PEP8 standards (Python Style Guide)"
   ]
  },
  {
   "cell_type": "code",
   "execution_count": 48,
   "metadata": {},
   "outputs": [
    {
     "name": "stdout",
     "output_type": "stream",
     "text": [
      "[4, 16, 36, 64, 100]\n",
      "[0, 1, 4, 9, 16, 25, 36, 49, 64, 81]\n",
      "[4, 16, 36, 64, 100]\n"
     ]
    }
   ],
   "source": [
    "# squared numbers comprehension\n",
    "#[variable, transform, condition]\n",
    "\n",
    "my_list = [2, 4, 6, 8, 10]\n",
    "\n",
    "squares = [x**2 for x in my_list]\n",
    "print(squares)\n",
    "\n",
    "squares2 = [x**2 for x in range(10)]\n",
    "print(squares2)\n",
    "\n",
    "new_list = []\n",
    "for x in my_list:\n",
    "    new_list.append(x**2)\n",
    "print(new_list)"
   ]
  },
  {
   "cell_type": "code",
   "execution_count": 53,
   "metadata": {},
   "outputs": [
    {
     "name": "stdout",
     "output_type": "stream",
     "text": [
      "['L', 'F', 'A', 'G', 'G', 'P']\n",
      "['L', 'F', 'A', 'G', 'G', 'P']\n"
     ]
    }
   ],
   "source": [
    "names = [\"Legolas\", \"Frodo\", \"Aragorn\", \"Gimli\", \"Gandalf\", \"Pippin\"]\n",
    "\n",
    "first_letter = [name[0] for name in names]\n",
    "print(first_letter)\n",
    "\n",
    "first_letter_list = []\n",
    "for name in names:\n",
    "    first_letter_list.append(name[0])\n",
    "print(first_letter_list)"
   ]
  },
  {
   "cell_type": "code",
   "execution_count": 55,
   "metadata": {},
   "outputs": [
    {
     "name": "stdout",
     "output_type": "stream",
     "text": [
      "['Gimli', 'Gandalf']\n",
      "\n",
      "\n",
      "['Gimli', 'Gandalf']\n"
     ]
    }
   ],
   "source": [
    "names = [\"Legolas\", \"Frodo\", \"Aragorn\", \"Gimli\", \"Gandalf\", \"Pippin\"]\n",
    "\n",
    "g_names = []\n",
    "\n",
    "for name in names:\n",
    "    if name[0] == \"G\":\n",
    "        g_names.append(name)\n",
    "print(g_names)\n",
    "\n",
    "print('\\n')\n",
    "\n",
    "g_names2 = [name for name in names if name[0] == 'G']\n",
    "print(g_names2)"
   ]
  },
  {
   "cell_type": "markdown",
   "metadata": {},
   "source": [
    "### Tuples <br>\n",
    "<p><b>Defined as an immutable list</b></p><br>Seperated by commas using parenthesis"
   ]
  },
  {
   "cell_type": "code",
   "execution_count": 61,
   "metadata": {},
   "outputs": [
    {
     "name": "stdout",
     "output_type": "stream",
     "text": [
      "<class 'tuple'>\n",
      "<class 'tuple'>\n",
      "1\n",
      "2\n",
      "3\n",
      "\n",
      "\n",
      "1\n",
      "2\n",
      "3\n"
     ]
    }
   ],
   "source": [
    "# first way of creating a tuple\n",
    "\n",
    "tup_1 = 1, 2, 3\n",
    "tup_2 = (1, 2, 3)\n",
    "\n",
    "print(type(tup_1))\n",
    "print(type(tup_2))\n",
    "\n",
    "# Looping over a tuple\n",
    "\n",
    "for number in tup_1:\n",
    "    print(number)\n",
    "    \n",
    "print(\"\\n\")\n",
    "\n",
    "# Looping over a tuple with an index\n",
    "for x in range(len(tup_1)):\n",
    "    print(tup_1[x])"
   ]
  },
  {
   "cell_type": "markdown",
   "metadata": {},
   "source": [
    "##### sorted()"
   ]
  },
  {
   "cell_type": "code",
   "execution_count": 69,
   "metadata": {},
   "outputs": [
    {
     "name": "stdout",
     "output_type": "stream",
     "text": [
      "[1, 3, 5, 6, 11, 19, 20, 43]\n",
      "[1, 3, 5, 6, 11, 19, 20, 43, 3, 4, 66, 77, 23]\n"
     ]
    }
   ],
   "source": [
    "tup_3 = (20, 6, 19, 11, 5, 3, 1, 43)\n",
    "\n",
    "sorted_tup = sorted(tup_3)\n",
    "print(sorted_tup)\n",
    "\n",
    "random_list = [3, 4, 66, 77, 23]\n",
    "\n",
    "combine_list = sorted_tup + random_list\n",
    "\n",
    "print(combine_list)"
   ]
  },
  {
   "cell_type": "code",
   "execution_count": 67,
   "metadata": {},
   "outputs": [
    {
     "name": "stdout",
     "output_type": "stream",
     "text": [
      " Steve\n"
     ]
    }
   ],
   "source": [
    "import random\n",
    "class_list = ['Perry', 'Cassie', 'Dyonne', 'Aften', 'Chris', 'Kathy',' Steve','Raul', 'Tarun', 'Tyler','Katie', 'Kelsey', 'Teddie']\n",
    "print(random.choice(class_list))\n"
   ]
  },
  {
   "cell_type": "markdown",
   "metadata": {},
   "source": [
    "##### Adding values to a Tuple"
   ]
  },
  {
   "cell_type": "code",
   "execution_count": 70,
   "metadata": {},
   "outputs": [
    {
     "name": "stdout",
     "output_type": "stream",
     "text": [
      "(1, 2, 3, 5)\n"
     ]
    }
   ],
   "source": [
    "tup_2 = (1, 2, 3)\n",
    "\n",
    "tup_2 = tup_2 + (5,)\n",
    "\n",
    "print(tup_2)"
   ]
  },
  {
   "cell_type": "markdown",
   "metadata": {},
   "source": [
    "# Exercises"
   ]
  },
  {
   "cell_type": "markdown",
   "metadata": {},
   "source": [
    "## Exercise 1 <br>\n",
    "<p>Using the given list, print out a filtered version of the list with only the numbers that are less than ten</b></i></p><br>\n"
   ]
  },
  {
   "cell_type": "code",
   "execution_count": 81,
   "metadata": {},
   "outputs": [
    {
     "name": "stdout",
     "output_type": "stream",
     "text": [
      "[1, 5, 8, 9]\n",
      "[1, 5, 8, 9]\n"
     ]
    }
   ],
   "source": [
    "alist = [1,11,14,5,8,9]\n",
    "\n",
    "# Option #1\n",
    "list_under_ten = []\n",
    "\n",
    "for num in sorted(alist):\n",
    "    if num < 10:\n",
    "        list_under_ten.append(num)\n",
    "    else:\n",
    "        break\n",
    "        \n",
    "print(list_under_ten)\n",
    "\n",
    "# Option #2\n",
    "\n",
    "list_under_ten = [num for num in sorted(alist) if num < 10]\n",
    "\n",
    "print(list_under_ten)"
   ]
  },
  {
   "cell_type": "markdown",
   "metadata": {},
   "source": [
    "## Exercise 2 <br>\n",
    "<p>Merge and sort the two lists below<br>\n",
    "<b><i>Hint: You can use the .sort() method</i></b></p>"
   ]
  },
  {
   "cell_type": "code",
   "execution_count": 89,
   "metadata": {},
   "outputs": [
    {
     "name": "stdout",
     "output_type": "stream",
     "text": [
      "[1, 2, 3, 3, 4, 4, 5, 5, 6, 6, 7, 8, 10]\n"
     ]
    }
   ],
   "source": [
    "l_1 = [1,2,3,4,5,6]\n",
    "l_2 = [3,4,5,6,7,8,10]\n",
    "\n",
    "lists_combined = l_1 + l_2\n",
    "lists_combined.sort()\n",
    "print(lists_combined)\n",
    "\n",
    "\n",
    "\n"
   ]
  }
 ],
 "metadata": {
  "kernelspec": {
   "display_name": "Python 3 (ipykernel)",
   "language": "python",
   "name": "python3"
  },
  "language_info": {
   "codemirror_mode": {
    "name": "ipython",
    "version": 3
   },
   "file_extension": ".py",
   "mimetype": "text/x-python",
   "name": "python",
   "nbconvert_exporter": "python",
   "pygments_lexer": "ipython3",
   "version": "3.10.7"
  }
 },
 "nbformat": 4,
 "nbformat_minor": 2
}
